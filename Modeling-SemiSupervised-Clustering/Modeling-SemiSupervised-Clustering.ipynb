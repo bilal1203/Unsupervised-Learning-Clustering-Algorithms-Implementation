{
 "cells": [
  {
   "cell_type": "code",
   "execution_count": 1,
   "metadata": {},
   "outputs": [],
   "source": [
    "import pandas as pd\n",
    "import numpy as np\n",
    "from sklearn.preprocessing import PowerTransformer, RobustScaler\n",
    "from sklearn.mixture import GaussianMixture, BayesianGaussianMixture\n",
    "from hmmlearn import hmm\n",
    "from sklearn.pipeline import Pipeline\n",
    "from sklearn.metrics import silhouette_score, davies_bouldin_score\n",
    "\n",
    "import matplotlib.pyplot as plt\n",
    "import seaborn as sns\n",
    "\n",
    "import time\n",
    "import os\n",
    "\n",
    "from warnings import filterwarnings\n",
    "filterwarnings('ignore')"
   ]
  },
  {
   "cell_type": "code",
   "execution_count": 3,
   "metadata": {},
   "outputs": [],
   "source": [
    "# Importing data:\n",
    "data = pd.read_csv('../Datasets/raw_datasets/data.csv', index_col='id')\n",
    "submission  = pd.read_csv('../Datasets/raw_datasets/sample_submission.csv')\n",
    "\n",
    "# Making a deep copy of the data\n",
    "data_copy = data.copy(deep = True)"
   ]
  },
  {
   "cell_type": "code",
   "execution_count": 8,
   "metadata": {},
   "outputs": [],
   "source": [
    "# integer data\n",
    "int_data = data_copy.select_dtypes(int)\n",
    "\n",
    "# interger data column names as a list\n",
    "int_data_cols = int_data.columns.to_list()\n",
    "\n",
    "# float data\n",
    "float_data = data_copy.select_dtypes(float)\n",
    "\n",
    "# float data column names as a list\n",
    "float_data_cols = float_data.columns.to_list()\n",
    "\n",
    "# data_copy column names as a list\n",
    "data_copy_cols_list = data_copy.columns.to_list()\n",
    "\n",
    "# non-normal float data\n",
    "non_norm_float_data_list = data_copy_cols_list[22:29]\n",
    "\n",
    "# Selected Features\n",
    "selected_features_list = int_data_cols + non_norm_float_data_list\n",
    "selected_data = data_copy[selected_features_list]"
   ]
  }
 ],
 "metadata": {
  "kernelspec": {
   "display_name": "github_classification",
   "language": "python",
   "name": "python3"
  },
  "language_info": {
   "codemirror_mode": {
    "name": "ipython",
    "version": 3
   },
   "file_extension": ".py",
   "mimetype": "text/x-python",
   "name": "python",
   "nbconvert_exporter": "python",
   "pygments_lexer": "ipython3",
   "version": "3.12.2"
  }
 },
 "nbformat": 4,
 "nbformat_minor": 2
}
