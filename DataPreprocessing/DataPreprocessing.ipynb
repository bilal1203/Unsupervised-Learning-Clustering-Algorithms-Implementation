{
 "cells": [
  {
   "cell_type": "markdown",
   "metadata": {},
   "source": []
  },
  {
   "cell_type": "code",
   "execution_count": null,
   "metadata": {},
   "outputs": [],
   "source": [
    "# Plotting post-transform KDE plot:-\n",
    "def Make_KDEPlot(df, xform_lbl, nrows=4, ncols=2, figsize= (10,16)):\n",
    "    \"\"\"\n",
    "    This function plots the KDE plot after doing user-specific transforms.\n",
    "    \n",
    "    Inputs:\n",
    "    1. df (DataFrame): User specific dataframe.\n",
    "    2. xform_lbl (str): Transform label for display.\n",
    "    3. nrows (int): Number of rows in the subplot grid.\n",
    "    4. ncols (int): Number of columns in the subplot grid.\n",
    "    5. figsize (tuple): Size of the figure.\n",
    "    \"\"\"\n",
    "    \n",
    "    fig, axes = plt.subplots(nrows=nrows, ncols=ncols, figsize=figsize, sharey=True, sharex=True)\n",
    "    axes = axes.flatten()  # Flattening the 2D array of axes for easier iteration\n",
    "\n",
    "    for i, col in enumerate(df.columns):\n",
    "        sns.kdeplot(x=df[col], color='tab:blue', fill=True, ax=axes[i])\n",
    "        axes[i].set_title(f\"\\nColumn {col}\\n\", color='tab:blue', fontsize=10)\n",
    "        axes[i].grid(visible=True, which='both', color='lightgrey', linestyle='--', linewidth=0.75)\n",
    "        axes[i].set_xlabel('')\n",
    "        \n",
    "    # Remove any unused subplots\n",
    "    for j in range(i + 1, nrows * ncols):\n",
    "        fig.delaxes(axes[j])\n",
    "        \n",
    "    plt.suptitle(f'KDE Plots After {xform_lbl}', fontsize=16)\n",
    "    plt.tight_layout(rect=[0, 0, 1, 0.96])  # Adjust layout to make room for suptitle\n",
    "    plt.show()"
   ]
  },
  {
   "cell_type": "code",
   "execution_count": null,
   "metadata": {},
   "outputs": [],
   "source": [
    "int_col = data.select_dtypes(include= int).columns\n",
    "\n",
    "# 1.Logarithm transform:-\n",
    "_ = np.log1p(data[int_col])\n",
    "print(f\"\\nKDE plot after log transform\\n\")\n",
    "Make_KDEPlot(df= _, xform_lbl= 'Log1p')\n",
    "    \n",
    "# 2. Box-Cox transform:-\n",
    "_ = pd.DataFrame(index= data.index, columns= int_col)\n",
    "for col in int_col: _.loc[:, col] = boxcox(data[col] +1)[0]\n",
    "print(f\"\\nKDE plot after box-cox transform\\n\")\n",
    "Make_KDEPlot(df= _, xform_lbl= 'BoxCox')\n",
    "\n",
    "# 3. Yeo-Johnson transform:-\n",
    "_ = pd.DataFrame(index= data.index, columns= int_col)\n",
    "for col in int_col: _.loc[:, col] = yeojohnson(data[col])[0]\n",
    "print(f\"\\nKDE plot after yeo-johnson transform\\n\")\n",
    "Make_KDEPlot(df= _, xform_lbl= 'YeoJohnson')"
   ]
  }
 ],
 "metadata": {
  "kernelspec": {
   "display_name": "github_classification",
   "language": "python",
   "name": "python3"
  },
  "language_info": {
   "codemirror_mode": {
    "name": "ipython",
    "version": 3
   },
   "file_extension": ".py",
   "mimetype": "text/x-python",
   "name": "python",
   "nbconvert_exporter": "python",
   "pygments_lexer": "ipython3",
   "version": "3.12.2"
  }
 },
 "nbformat": 4,
 "nbformat_minor": 2
}
